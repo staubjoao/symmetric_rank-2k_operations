{
 "cells": [
  {
   "cell_type": "code",
   "execution_count": null,
   "metadata": {},
   "outputs": [],
   "source": [
    "import matplotlib.pyplot as plt\n",
    "import numpy as np\n",
    "\n",
    "fpath_greff = \"../testes_seq_paral/test_greff_tudo_test_new_n/\"\n",
    "fpath_staub = \"../testes_seq_paral/test_staub_tudo_test_new_n/\"\n",
    "\n",
    "nucleos = 4\n",
    "\n",
    "sizes = [\"small\", \"medium\", \"large\"]\n",
    "threads = [2, 4, 8, 16]\n",
    "threads_mpi_pthreads = [4, 6, 8, 10, 14, 18]\n",
    "speedups = []\n",
    "\n",
    "sequenciais_greff = []\n",
    "\n",
    "for i in sizes:\n",
    "    sequencial_local = []\n",
    "    with open(f\"{fpath_greff}logs_sequencial/log_seq_{i}_out.txt\", \"r\") as arquivo:\n",
    "        for linha in arquivo:\n",
    "            if \"seconds time elapsed\" in linha:\n",
    "                aux = linha.split(\"seconds\")\n",
    "                aux = aux[0]\n",
    "                aux = float(aux.replace(\",\", \".\"))\n",
    "                sequencial_local.append(float(aux))\n",
    "    sequenciais_greff.append(np.mean(sequencial_local))\n",
    "\n",
    "sequenciais_staub = []\n",
    "\n",
    "for i in sizes:\n",
    "    sequencial_local = []\n",
    "    with open(f\"{fpaths}logs_sequencial/log_seq_{i}_out.txt\", \"r\") as arquivo:\n",
    "        for linha in arquivo:\n",
    "            if \"seconds time elapsed\" in linha:\n",
    "                aux = linha.split(\"seconds\")\n",
    "                aux = aux[0]\n",
    "                aux = float(aux.replace(\",\", \".\"))\n",
    "                sequencial_local.append(float(aux))\n",
    "    sequenciais_staub.append(np.mean(sequencial_local))"
   ]
  },
  {
   "cell_type": "code",
   "execution_count": null,
   "metadata": {},
   "outputs": [],
   "source": [
    "paralelo_greff = [2477, 17348, 138950]\n",
    "paralelo_staub = [2656, 19202, 124009]\n",
    "\n",
    "speedups_real_greff = []\n",
    "aux = 0\n",
    "speedup_local = [sequenciais_greff[0] / paralelo_greff[i] for i in range(aux,len(threads))] \n",
    "speedups_real_greff.append(speedup_local)\n",
    "aux += len(threads)\n",
    "speedup_local = [sequenciais_greff[1] / paralelo_greff[i] for i in range(aux,aux+len(threads))] \n",
    "speedups_real_greff.append(speedup_local)\n",
    "aux += len(threads)\n",
    "speedup_local = [sequenciais_greff[2] / paralelo_greff[i] for i in range(aux,aux+len(threads))]\n",
    "speedups_real_greff.append(speedup_local)\n",
    "\n",
    "speedups_real_staub = []\n",
    "aux = 0\n",
    "speedup_local = [sequenciais_staub[0] / paralelo_staub[i] for i in range(aux,len(threads))] \n",
    "speedups_real_staub.append(speedup_local)\n",
    "aux += len(threads)\n",
    "speedup_local = [sequenciais_staub[1] / paralelo_staub[i] for i in range(aux,aux+len(threads))] \n",
    "speedups_real_staub.append(speedup_local)\n",
    "aux += len(threads)\n",
    "speedup_local = [sequenciais_staub[2] / paralelo_staub[i] for i in range(aux,aux+len(threads))]\n",
    "speedups_real_staub.append(speedup_local)"
   ]
  }
 ],
 "metadata": {
  "language_info": {
   "name": "python"
  }
 },
 "nbformat": 4,
 "nbformat_minor": 2
}
